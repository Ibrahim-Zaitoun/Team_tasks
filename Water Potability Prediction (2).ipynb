{
 "cells": [
  {
   "cell_type": "code",
   "execution_count": 1,
   "id": "953ccaab",
   "metadata": {},
   "outputs": [
    {
     "name": "stderr",
     "output_type": "stream",
     "text": [
      "C:\\Users\\MG\\anaconda3\\lib\\site-packages\\scipy\\__init__.py:146: UserWarning: A NumPy version >=1.16.5 and <1.23.0 is required for this version of SciPy (detected version 1.24.3\n",
      "  warnings.warn(f\"A NumPy version >={np_minversion} and <{np_maxversion}\"\n"
     ]
    }
   ],
   "source": [
    "import numpy as np\n",
    "import pandas as pd\n",
    "from sklearn.preprocessing import StandardScaler"
   ]
  },
  {
   "cell_type": "markdown",
   "id": "57c499e5",
   "metadata": {},
   "source": [
    "# Data Preprocessing for Training Data"
   ]
  },
  {
   "cell_type": "code",
   "execution_count": 2,
   "id": "5856e65d",
   "metadata": {},
   "outputs": [
    {
     "data": {
      "text/html": [
       "<div>\n",
       "<style scoped>\n",
       "    .dataframe tbody tr th:only-of-type {\n",
       "        vertical-align: middle;\n",
       "    }\n",
       "\n",
       "    .dataframe tbody tr th {\n",
       "        vertical-align: top;\n",
       "    }\n",
       "\n",
       "    .dataframe thead th {\n",
       "        text-align: right;\n",
       "    }\n",
       "</style>\n",
       "<table border=\"1\" class=\"dataframe\">\n",
       "  <thead>\n",
       "    <tr style=\"text-align: right;\">\n",
       "      <th></th>\n",
       "      <th>ph</th>\n",
       "      <th>Hardness</th>\n",
       "      <th>Solids</th>\n",
       "      <th>Chloramines</th>\n",
       "      <th>Sulfate</th>\n",
       "      <th>Conductivity</th>\n",
       "      <th>Organic_carbon</th>\n",
       "      <th>Trihalomethanes</th>\n",
       "      <th>Turbidity</th>\n",
       "      <th>Potability</th>\n",
       "    </tr>\n",
       "  </thead>\n",
       "  <tbody>\n",
       "    <tr>\n",
       "      <th>0</th>\n",
       "      <td>7.080795</td>\n",
       "      <td>219.674262</td>\n",
       "      <td>22210.613083</td>\n",
       "      <td>5.875041</td>\n",
       "      <td>333.775777</td>\n",
       "      <td>398.517703</td>\n",
       "      <td>11.502316</td>\n",
       "      <td>112.412210</td>\n",
       "      <td>2.994259</td>\n",
       "      <td>0</td>\n",
       "    </tr>\n",
       "    <tr>\n",
       "      <th>1</th>\n",
       "      <td>6.783888</td>\n",
       "      <td>193.653581</td>\n",
       "      <td>13677.106441</td>\n",
       "      <td>5.171454</td>\n",
       "      <td>323.728663</td>\n",
       "      <td>477.854687</td>\n",
       "      <td>15.056064</td>\n",
       "      <td>66.396293</td>\n",
       "      <td>3.250022</td>\n",
       "      <td>0</td>\n",
       "    </tr>\n",
       "    <tr>\n",
       "      <th>2</th>\n",
       "      <td>6.010618</td>\n",
       "      <td>184.558582</td>\n",
       "      <td>15940.573271</td>\n",
       "      <td>8.165222</td>\n",
       "      <td>421.486089</td>\n",
       "      <td>314.529813</td>\n",
       "      <td>20.314617</td>\n",
       "      <td>83.707938</td>\n",
       "      <td>4.867287</td>\n",
       "      <td>1</td>\n",
       "    </tr>\n",
       "    <tr>\n",
       "      <th>3</th>\n",
       "      <td>8.097454</td>\n",
       "      <td>218.992436</td>\n",
       "      <td>18112.284447</td>\n",
       "      <td>6.196947</td>\n",
       "      <td>333.775777</td>\n",
       "      <td>376.569803</td>\n",
       "      <td>17.746264</td>\n",
       "      <td>59.909941</td>\n",
       "      <td>4.279082</td>\n",
       "      <td>1</td>\n",
       "    </tr>\n",
       "    <tr>\n",
       "      <th>4</th>\n",
       "      <td>8.072612</td>\n",
       "      <td>210.269780</td>\n",
       "      <td>16843.363927</td>\n",
       "      <td>8.793459</td>\n",
       "      <td>359.516169</td>\n",
       "      <td>559.167574</td>\n",
       "      <td>17.263576</td>\n",
       "      <td>68.738989</td>\n",
       "      <td>5.082206</td>\n",
       "      <td>0</td>\n",
       "    </tr>\n",
       "  </tbody>\n",
       "</table>\n",
       "</div>"
      ],
      "text/plain": [
       "         ph    Hardness        Solids  Chloramines     Sulfate  Conductivity  \\\n",
       "0  7.080795  219.674262  22210.613083     5.875041  333.775777    398.517703   \n",
       "1  6.783888  193.653581  13677.106441     5.171454  323.728663    477.854687   \n",
       "2  6.010618  184.558582  15940.573271     8.165222  421.486089    314.529813   \n",
       "3  8.097454  218.992436  18112.284447     6.196947  333.775777    376.569803   \n",
       "4  8.072612  210.269780  16843.363927     8.793459  359.516169    559.167574   \n",
       "\n",
       "   Organic_carbon  Trihalomethanes  Turbidity  Potability  \n",
       "0       11.502316       112.412210   2.994259           0  \n",
       "1       15.056064        66.396293   3.250022           0  \n",
       "2       20.314617        83.707938   4.867287           1  \n",
       "3       17.746264        59.909941   4.279082           1  \n",
       "4       17.263576        68.738989   5.082206           0  "
      ]
     },
     "execution_count": 2,
     "metadata": {},
     "output_type": "execute_result"
    }
   ],
   "source": [
    "train_data = pd.read_csv('train_dataset.csv')\n",
    "train_data.head()"
   ]
  },
  {
   "cell_type": "code",
   "execution_count": 3,
   "id": "71e7603c",
   "metadata": {},
   "outputs": [
    {
     "data": {
      "text/html": [
       "<div>\n",
       "<style scoped>\n",
       "    .dataframe tbody tr th:only-of-type {\n",
       "        vertical-align: middle;\n",
       "    }\n",
       "\n",
       "    .dataframe tbody tr th {\n",
       "        vertical-align: top;\n",
       "    }\n",
       "\n",
       "    .dataframe thead th {\n",
       "        text-align: right;\n",
       "    }\n",
       "</style>\n",
       "<table border=\"1\" class=\"dataframe\">\n",
       "  <thead>\n",
       "    <tr style=\"text-align: right;\">\n",
       "      <th></th>\n",
       "      <th>count</th>\n",
       "      <th>mean</th>\n",
       "      <th>std</th>\n",
       "      <th>min</th>\n",
       "      <th>25%</th>\n",
       "      <th>50%</th>\n",
       "      <th>75%</th>\n",
       "      <th>max</th>\n",
       "    </tr>\n",
       "  </thead>\n",
       "  <tbody>\n",
       "    <tr>\n",
       "      <th>ph</th>\n",
       "      <td>2293.0</td>\n",
       "      <td>7.082265</td>\n",
       "      <td>1.486029</td>\n",
       "      <td>0.000000</td>\n",
       "      <td>6.262799</td>\n",
       "      <td>7.080795</td>\n",
       "      <td>7.873272</td>\n",
       "      <td>14.000000</td>\n",
       "    </tr>\n",
       "    <tr>\n",
       "      <th>Hardness</th>\n",
       "      <td>2293.0</td>\n",
       "      <td>196.390335</td>\n",
       "      <td>32.460633</td>\n",
       "      <td>47.432000</td>\n",
       "      <td>176.753500</td>\n",
       "      <td>196.833001</td>\n",
       "      <td>216.441172</td>\n",
       "      <td>317.338124</td>\n",
       "    </tr>\n",
       "    <tr>\n",
       "      <th>Solids</th>\n",
       "      <td>2293.0</td>\n",
       "      <td>22074.335334</td>\n",
       "      <td>8668.693908</td>\n",
       "      <td>320.942611</td>\n",
       "      <td>15825.182571</td>\n",
       "      <td>21153.322827</td>\n",
       "      <td>27345.174288</td>\n",
       "      <td>56351.396304</td>\n",
       "    </tr>\n",
       "    <tr>\n",
       "      <th>Chloramines</th>\n",
       "      <td>2293.0</td>\n",
       "      <td>7.132987</td>\n",
       "      <td>1.573879</td>\n",
       "      <td>0.530351</td>\n",
       "      <td>6.140033</td>\n",
       "      <td>7.135063</td>\n",
       "      <td>8.104498</td>\n",
       "      <td>13.043806</td>\n",
       "    </tr>\n",
       "    <tr>\n",
       "      <th>Sulfate</th>\n",
       "      <td>2293.0</td>\n",
       "      <td>333.393347</td>\n",
       "      <td>36.116271</td>\n",
       "      <td>180.206746</td>\n",
       "      <td>316.552791</td>\n",
       "      <td>333.775777</td>\n",
       "      <td>349.985243</td>\n",
       "      <td>481.030642</td>\n",
       "    </tr>\n",
       "    <tr>\n",
       "      <th>Conductivity</th>\n",
       "      <td>2293.0</td>\n",
       "      <td>425.455702</td>\n",
       "      <td>80.266652</td>\n",
       "      <td>201.619737</td>\n",
       "      <td>363.974060</td>\n",
       "      <td>420.828362</td>\n",
       "      <td>480.715208</td>\n",
       "      <td>753.342620</td>\n",
       "    </tr>\n",
       "    <tr>\n",
       "      <th>Organic_carbon</th>\n",
       "      <td>2293.0</td>\n",
       "      <td>14.229174</td>\n",
       "      <td>3.341429</td>\n",
       "      <td>2.200000</td>\n",
       "      <td>12.015868</td>\n",
       "      <td>14.151538</td>\n",
       "      <td>16.450990</td>\n",
       "      <td>28.300000</td>\n",
       "    </tr>\n",
       "    <tr>\n",
       "      <th>Trihalomethanes</th>\n",
       "      <td>2293.0</td>\n",
       "      <td>66.499518</td>\n",
       "      <td>16.067742</td>\n",
       "      <td>0.738000</td>\n",
       "      <td>56.329076</td>\n",
       "      <td>66.396293</td>\n",
       "      <td>77.182622</td>\n",
       "      <td>124.000000</td>\n",
       "    </tr>\n",
       "    <tr>\n",
       "      <th>Turbidity</th>\n",
       "      <td>2293.0</td>\n",
       "      <td>3.967153</td>\n",
       "      <td>0.788480</td>\n",
       "      <td>1.450000</td>\n",
       "      <td>3.440753</td>\n",
       "      <td>3.947138</td>\n",
       "      <td>4.503661</td>\n",
       "      <td>6.739000</td>\n",
       "    </tr>\n",
       "    <tr>\n",
       "      <th>Potability</th>\n",
       "      <td>2293.0</td>\n",
       "      <td>0.390318</td>\n",
       "      <td>0.487928</td>\n",
       "      <td>0.000000</td>\n",
       "      <td>0.000000</td>\n",
       "      <td>0.000000</td>\n",
       "      <td>1.000000</td>\n",
       "      <td>1.000000</td>\n",
       "    </tr>\n",
       "  </tbody>\n",
       "</table>\n",
       "</div>"
      ],
      "text/plain": [
       "                  count          mean          std         min           25%  \\\n",
       "ph               2293.0      7.082265     1.486029    0.000000      6.262799   \n",
       "Hardness         2293.0    196.390335    32.460633   47.432000    176.753500   \n",
       "Solids           2293.0  22074.335334  8668.693908  320.942611  15825.182571   \n",
       "Chloramines      2293.0      7.132987     1.573879    0.530351      6.140033   \n",
       "Sulfate          2293.0    333.393347    36.116271  180.206746    316.552791   \n",
       "Conductivity     2293.0    425.455702    80.266652  201.619737    363.974060   \n",
       "Organic_carbon   2293.0     14.229174     3.341429    2.200000     12.015868   \n",
       "Trihalomethanes  2293.0     66.499518    16.067742    0.738000     56.329076   \n",
       "Turbidity        2293.0      3.967153     0.788480    1.450000      3.440753   \n",
       "Potability       2293.0      0.390318     0.487928    0.000000      0.000000   \n",
       "\n",
       "                          50%           75%           max  \n",
       "ph                   7.080795      7.873272     14.000000  \n",
       "Hardness           196.833001    216.441172    317.338124  \n",
       "Solids           21153.322827  27345.174288  56351.396304  \n",
       "Chloramines          7.135063      8.104498     13.043806  \n",
       "Sulfate            333.775777    349.985243    481.030642  \n",
       "Conductivity       420.828362    480.715208    753.342620  \n",
       "Organic_carbon      14.151538     16.450990     28.300000  \n",
       "Trihalomethanes     66.396293     77.182622    124.000000  \n",
       "Turbidity            3.947138      4.503661      6.739000  \n",
       "Potability           0.000000      1.000000      1.000000  "
      ]
     },
     "execution_count": 3,
     "metadata": {},
     "output_type": "execute_result"
    }
   ],
   "source": [
    "train_data.describe().T"
   ]
  },
  {
   "cell_type": "code",
   "execution_count": 4,
   "id": "1f344af4",
   "metadata": {},
   "outputs": [
    {
     "name": "stdout",
     "output_type": "stream",
     "text": [
      "Percentage of Missing Values in Each Column:\n",
      "ph                 0.0\n",
      "Hardness           0.0\n",
      "Solids             0.0\n",
      "Chloramines        0.0\n",
      "Sulfate            0.0\n",
      "Conductivity       0.0\n",
      "Organic_carbon     0.0\n",
      "Trihalomethanes    0.0\n",
      "Turbidity          0.0\n",
      "Potability         0.0\n",
      "dtype: float64\n"
     ]
    }
   ],
   "source": [
    "missing_percentage = train_data.isna().sum() / len(train_data) * 100\n",
    "\n",
    "print(\"Percentage of Missing Values in Each Column:\")\n",
    "print(missing_percentage)"
   ]
  },
  {
   "cell_type": "code",
   "execution_count": 5,
   "id": "70b092b4",
   "metadata": {},
   "outputs": [
    {
     "data": {
      "image/png": "[encoded data removed]",
      "text/plain": [
       "<Figure size 432x288 with 12 Axes>"
      ]
     },
     "metadata": {
      "needs_background": "light"
     },
     "output_type": "display_data"
    }
   ],
   "source": [
    "## Make sure the data is normally distributed \n",
    "train_data.hist(bins=50);"
   ]
  },
  {
   "cell_type": "code",
   "execution_count": 6,
   "id": "c3ff1e86",
   "metadata": {},
   "outputs": [
    {
     "name": "stdout",
     "output_type": "stream",
     "text": [
      "Number of duplicate rows in training data: 0\n"
     ]
    }
   ],
   "source": [
    "train_duplicates = train_data.duplicated()\n",
    "print(\"Number of duplicate rows in training data:\", train_duplicates.sum())\n"
   ]
  },
  {
   "cell_type": "code",
   "execution_count": 7,
   "id": "eb35ea5d",
   "metadata": {},
   "outputs": [],
   "source": [
    "##Potability\" column contains the target variable (the value you want to predict), and it should be separated from the rest of the data during the preprocessing and training process.\n",
    "X_train = train_data.drop('Potability', axis=1).values\n",
    "y_train = train_data['Potability'].values"
   ]
  },
  {
   "cell_type": "code",
   "execution_count": 8,
   "id": "b42958d2",
   "metadata": {},
   "outputs": [
    {
     "name": "stdout",
     "output_type": "stream",
     "text": [
      "         ph  Hardness    Solids  Chloramines   Sulfate  Conductivity  \\\n",
      "0 -0.000990  0.717454  0.015724    -0.799439  0.010591     -0.335680   \n",
      "1 -0.200832 -0.084328 -0.968896    -1.246577 -0.267658      0.652954   \n",
      "2 -0.721306 -0.364575 -0.707731     0.655997  2.439675     -1.382269   \n",
      "3  0.683305  0.696445 -0.457153    -0.594864  0.010591     -0.609177   \n",
      "4  0.666584  0.427671 -0.603564     1.055249  0.723456      1.666209   \n",
      "\n",
      "   Organic_carbon  Trihalomethanes  Turbidity  \n",
      "0       -0.816253         2.858068  -1.234154  \n",
      "1        0.247520        -0.006426  -0.909709  \n",
      "2        1.821607         1.071225   1.141856  \n",
      "3        1.052800        -0.410202   0.395695  \n",
      "4        0.908313         0.139407   1.414489  \n"
     ]
    }
   ],
   "source": [
    "# Apply Standard Scaling to the features\n",
    "scaler = StandardScaler()\n",
    "X_train_scaled = scaler.fit_transform(train_data.drop('Potability', axis=1))\n",
    "\n",
    "scaled_train_df = pd.DataFrame(X_train_scaled, columns=train_data.columns[:-1])\n",
    "\n",
    "# Print the scaled DataFrame\n",
    "print(scaled_train_df.head())"
   ]
  },
  {
   "cell_type": "markdown",
   "id": "23902259",
   "metadata": {},
   "source": [
    "# Data Preprocessing for Testing Data:\n"
   ]
  },
  {
   "cell_type": "code",
   "execution_count": 9,
   "id": "59b0eb25",
   "metadata": {},
   "outputs": [
    {
     "data": {
      "text/html": [
       "<div>\n",
       "<style scoped>\n",
       "    .dataframe tbody tr th:only-of-type {\n",
       "        vertical-align: middle;\n",
       "    }\n",
       "\n",
       "    .dataframe tbody tr th {\n",
       "        vertical-align: top;\n",
       "    }\n",
       "\n",
       "    .dataframe thead th {\n",
       "        text-align: right;\n",
       "    }\n",
       "</style>\n",
       "<table border=\"1\" class=\"dataframe\">\n",
       "  <thead>\n",
       "    <tr style=\"text-align: right;\">\n",
       "      <th></th>\n",
       "      <th>ph</th>\n",
       "      <th>Hardness</th>\n",
       "      <th>Solids</th>\n",
       "      <th>Chloramines</th>\n",
       "      <th>Sulfate</th>\n",
       "      <th>Conductivity</th>\n",
       "      <th>Organic_carbon</th>\n",
       "      <th>Trihalomethanes</th>\n",
       "      <th>Turbidity</th>\n",
       "      <th>Potability</th>\n",
       "    </tr>\n",
       "  </thead>\n",
       "  <tbody>\n",
       "    <tr>\n",
       "      <th>0</th>\n",
       "      <td>7.080795</td>\n",
       "      <td>219.674262</td>\n",
       "      <td>22210.613083</td>\n",
       "      <td>5.875041</td>\n",
       "      <td>333.775777</td>\n",
       "      <td>398.517703</td>\n",
       "      <td>11.502316</td>\n",
       "      <td>112.412210</td>\n",
       "      <td>2.994259</td>\n",
       "      <td>0</td>\n",
       "    </tr>\n",
       "    <tr>\n",
       "      <th>1</th>\n",
       "      <td>6.783888</td>\n",
       "      <td>193.653581</td>\n",
       "      <td>13677.106441</td>\n",
       "      <td>5.171454</td>\n",
       "      <td>323.728663</td>\n",
       "      <td>477.854687</td>\n",
       "      <td>15.056064</td>\n",
       "      <td>66.396293</td>\n",
       "      <td>3.250022</td>\n",
       "      <td>0</td>\n",
       "    </tr>\n",
       "    <tr>\n",
       "      <th>2</th>\n",
       "      <td>6.010618</td>\n",
       "      <td>184.558582</td>\n",
       "      <td>15940.573271</td>\n",
       "      <td>8.165222</td>\n",
       "      <td>421.486089</td>\n",
       "      <td>314.529813</td>\n",
       "      <td>20.314617</td>\n",
       "      <td>83.707938</td>\n",
       "      <td>4.867287</td>\n",
       "      <td>1</td>\n",
       "    </tr>\n",
       "    <tr>\n",
       "      <th>3</th>\n",
       "      <td>8.097454</td>\n",
       "      <td>218.992436</td>\n",
       "      <td>18112.284447</td>\n",
       "      <td>6.196947</td>\n",
       "      <td>333.775777</td>\n",
       "      <td>376.569803</td>\n",
       "      <td>17.746264</td>\n",
       "      <td>59.909941</td>\n",
       "      <td>4.279082</td>\n",
       "      <td>1</td>\n",
       "    </tr>\n",
       "    <tr>\n",
       "      <th>4</th>\n",
       "      <td>8.072612</td>\n",
       "      <td>210.269780</td>\n",
       "      <td>16843.363927</td>\n",
       "      <td>8.793459</td>\n",
       "      <td>359.516169</td>\n",
       "      <td>559.167574</td>\n",
       "      <td>17.263576</td>\n",
       "      <td>68.738989</td>\n",
       "      <td>5.082206</td>\n",
       "      <td>0</td>\n",
       "    </tr>\n",
       "  </tbody>\n",
       "</table>\n",
       "</div>"
      ],
      "text/plain": [
       "         ph    Hardness        Solids  Chloramines     Sulfate  Conductivity  \\\n",
       "0  7.080795  219.674262  22210.613083     5.875041  333.775777    398.517703   \n",
       "1  6.783888  193.653581  13677.106441     5.171454  323.728663    477.854687   \n",
       "2  6.010618  184.558582  15940.573271     8.165222  421.486089    314.529813   \n",
       "3  8.097454  218.992436  18112.284447     6.196947  333.775777    376.569803   \n",
       "4  8.072612  210.269780  16843.363927     8.793459  359.516169    559.167574   \n",
       "\n",
       "   Organic_carbon  Trihalomethanes  Turbidity  Potability  \n",
       "0       11.502316       112.412210   2.994259           0  \n",
       "1       15.056064        66.396293   3.250022           0  \n",
       "2       20.314617        83.707938   4.867287           1  \n",
       "3       17.746264        59.909941   4.279082           1  \n",
       "4       17.263576        68.738989   5.082206           0  "
      ]
     },
     "execution_count": 9,
     "metadata": {},
     "output_type": "execute_result"
    }
   ],
   "source": [
    "test_data = pd.read_csv('train_dataset.csv')\n",
    "test_data.head()"
   ]
  },
  {
   "cell_type": "code",
   "execution_count": 10,
   "id": "74f6ec33",
   "metadata": {},
   "outputs": [],
   "source": [
    "X_test = test_data.drop('Potability', axis=1).values\n",
    "y_test = test_data['Potability'].values"
   ]
  },
  {
   "cell_type": "code",
   "execution_count": 11,
   "id": "79718ede",
   "metadata": {},
   "outputs": [
    {
     "name": "stdout",
     "output_type": "stream",
     "text": [
      "         ph  Hardness    Solids  Chloramines   Sulfate  Conductivity  \\\n",
      "0 -0.000990  0.717454  0.015724    -0.799439  0.010591     -0.335680   \n",
      "1 -0.200832 -0.084328 -0.968896    -1.246577 -0.267658      0.652954   \n",
      "2 -0.721306 -0.364575 -0.707731     0.655997  2.439675     -1.382269   \n",
      "3  0.683305  0.696445 -0.457153    -0.594864  0.010591     -0.609177   \n",
      "4  0.666584  0.427671 -0.603564     1.055249  0.723456      1.666209   \n",
      "\n",
      "   Organic_carbon  Trihalomethanes  Turbidity  \n",
      "0       -0.816253         2.858068  -1.234154  \n",
      "1        0.247520        -0.006426  -0.909709  \n",
      "2        1.821607         1.071225   1.141856  \n",
      "3        1.052800        -0.410202   0.395695  \n",
      "4        0.908313         0.139407   1.414489  \n"
     ]
    }
   ],
   "source": [
    "scaler = StandardScaler()\n",
    "X_test_scaled = scaler.fit_transform(test_data.drop('Potability', axis=1))\n",
    "\n",
    "scaled_test_df = pd.DataFrame(X_test_scaled, columns=test_data.columns[:-1])\n",
    "\n",
    "# Print the scaled DataFrame\n",
    "print(scaled_test_df.head())"
   ]
  },
  {
   "cell_type": "markdown",
   "id": "f812c8ba",
   "metadata": {},
   "source": [
    "# DNN Model"
   ]
  },
  {
   "cell_type": "code",
   "execution_count": 13,
   "id": "97e18d93",
   "metadata": {},
   "outputs": [
    {
     "name": "stdout",
     "output_type": "stream",
     "text": [
      "Epoch 1/20\n",
      "58/58 [==============================] - 1s 5ms/step - loss: 0.6728 - accuracy: 0.6036 - val_loss: 0.6547 - val_accuracy: 0.6166\n",
      "Epoch 2/20\n",
      "58/58 [==============================] - 0s 2ms/step - loss: 0.6423 - accuracy: 0.6456 - val_loss: 0.6408 - val_accuracy: 0.6471\n",
      "Epoch 3/20\n",
      "58/58 [==============================] - 0s 2ms/step - loss: 0.6210 - accuracy: 0.6750 - val_loss: 0.6295 - val_accuracy: 0.6514\n",
      "Epoch 4/20\n",
      "58/58 [==============================] - 0s 2ms/step - loss: 0.6059 - accuracy: 0.6816 - val_loss: 0.6181 - val_accuracy: 0.6732\n",
      "Epoch 5/20\n",
      "58/58 [==============================] - 0s 2ms/step - loss: 0.5917 - accuracy: 0.6936 - val_loss: 0.6112 - val_accuracy: 0.6776\n",
      "Epoch 6/20\n",
      "58/58 [==============================] - 0s 2ms/step - loss: 0.5841 - accuracy: 0.7034 - val_loss: 0.6103 - val_accuracy: 0.6732\n",
      "Epoch 7/20\n",
      "58/58 [==============================] - 0s 2ms/step - loss: 0.5753 - accuracy: 0.7028 - val_loss: 0.6058 - val_accuracy: 0.6841\n",
      "Epoch 8/20\n",
      "58/58 [==============================] - 0s 2ms/step - loss: 0.5699 - accuracy: 0.7094 - val_loss: 0.6140 - val_accuracy: 0.6492\n",
      "Epoch 9/20\n",
      "58/58 [==============================] - 0s 2ms/step - loss: 0.5635 - accuracy: 0.7197 - val_loss: 0.6123 - val_accuracy: 0.6667\n",
      "Epoch 10/20\n",
      "58/58 [==============================] - 0s 2ms/step - loss: 0.5605 - accuracy: 0.7094 - val_loss: 0.6108 - val_accuracy: 0.6667\n",
      "Epoch 11/20\n",
      "58/58 [==============================] - 0s 2ms/step - loss: 0.5586 - accuracy: 0.7181 - val_loss: 0.6140 - val_accuracy: 0.6667\n",
      "Epoch 12/20\n",
      "58/58 [==============================] - 0s 2ms/step - loss: 0.5494 - accuracy: 0.7257 - val_loss: 0.6133 - val_accuracy: 0.6667\n",
      "Epoch 13/20\n",
      "58/58 [==============================] - 0s 2ms/step - loss: 0.5462 - accuracy: 0.7301 - val_loss: 0.6174 - val_accuracy: 0.6710\n",
      "Epoch 14/20\n",
      "58/58 [==============================] - 0s 2ms/step - loss: 0.5432 - accuracy: 0.7236 - val_loss: 0.6174 - val_accuracy: 0.6754\n",
      "Epoch 15/20\n",
      "58/58 [==============================] - 0s 2ms/step - loss: 0.5362 - accuracy: 0.7366 - val_loss: 0.6174 - val_accuracy: 0.6558\n",
      "Epoch 16/20\n",
      "58/58 [==============================] - 0s 2ms/step - loss: 0.5367 - accuracy: 0.7426 - val_loss: 0.6232 - val_accuracy: 0.6667\n",
      "Epoch 17/20\n",
      "58/58 [==============================] - 0s 2ms/step - loss: 0.5305 - accuracy: 0.7421 - val_loss: 0.6242 - val_accuracy: 0.6688\n",
      "Epoch 18/20\n",
      "58/58 [==============================] - 0s 2ms/step - loss: 0.5261 - accuracy: 0.7415 - val_loss: 0.6199 - val_accuracy: 0.6601\n",
      "Epoch 19/20\n",
      "58/58 [==============================] - 0s 2ms/step - loss: 0.5250 - accuracy: 0.7432 - val_loss: 0.6178 - val_accuracy: 0.6580\n",
      "Epoch 20/20\n",
      "58/58 [==============================] - 0s 2ms/step - loss: 0.5227 - accuracy: 0.7399 - val_loss: 0.6178 - val_accuracy: 0.6667\n",
      "72/72 [==============================] - 0s 1ms/step\n"
     ]
    }
   ],
   "source": [
    "import pandas as pd\n",
    "import numpy as np\n",
    "from sklearn.model_selection import train_test_split\n",
    "from sklearn.preprocessing import StandardScaler\n",
    "from sklearn.metrics import accuracy_score, classification_report\n",
    "import tensorflow as tf\n",
    "from tensorflow import keras\n",
    "from keras.models import Sequential\n",
    "from keras.layers import Dense\n",
    "from tensorflow.keras import layers\n",
    "\n",
    "# # Build the DNN model\n",
    "# model = keras.Sequential([\n",
    "#     layers.Input(shape=(X_train_scaled.shape[1],)),\n",
    "#     layers.Dense(64, activation='relu'),\n",
    "#     layers.Dense(32, activation='relu'),\n",
    "#     layers.Dense(1, activation='sigmoid')\n",
    "# ])\n",
    "\n",
    "# # Compile the model\n",
    "# model.compile(optimizer='adam', loss='binary_crossentropy', metrics=['accuracy'])\n",
    "\n",
    "# # Train the model\n",
    "# history = model.fit(X_train_scaled, y_train, epochs=50, batch_size=32, validation_split=0.2)\n",
    "\n",
    "# Build the DNN model\n",
    "model = Sequential()\n",
    "model.add(Dense(64, activation='relu', input_dim=X_train_scaled.shape[1]))\n",
    "model.add(Dense(64, activation='relu'))\n",
    "model.add(Dense(1, activation='sigmoid'))\n",
    "\n",
    "\n",
    "# Compile the model\n",
    "model.compile(loss='binary_crossentropy', optimizer='adam', metrics=['accuracy'])\n",
    "\n",
    "# Train the model\n",
    "history = model.fit(X_train_scaled, y_train, epochs=20, batch_size=32, validation_split=0.2, verbose=1)\n",
    "\n",
    "# Evaluate the model\n",
    "y_pred = model.predict(X_test_scaled)\n",
    "y_pred_classes = (y_pred > 0.5).astype(int)"
   ]
  },
  {
   "cell_type": "code",
   "execution_count": 14,
   "id": "de86f610",
   "metadata": {},
   "outputs": [
    {
     "name": "stdout",
     "output_type": "stream",
     "text": [
      "Accuracy: 0.7409507195813345\n"
     ]
    }
   ],
   "source": [
    "# Calculate accuracy\n",
    "accuracy = accuracy_score(y_test, y_pred_classes)\n",
    "print(\"Accuracy:\", accuracy)\n",
    "\n"
   ]
  },
  {
   "cell_type": "code",
   "execution_count": 15,
   "id": "931a6b8b",
   "metadata": {},
   "outputs": [
    {
     "name": "stdout",
     "output_type": "stream",
     "text": [
      "Confusion Matrix:\n",
      "[[1215  183]\n",
      " [ 411  484]]\n"
     ]
    }
   ],
   "source": [
    "\n",
    "from sklearn.metrics import classification_report, confusion_matrix, roc_auc_score, roc_curve, accuracy_score\n",
    "\n",
    "# Confusion matrix\n",
    "conf_matrix = confusion_matrix(y_test, y_pred_classes)\n",
    "print(\"Confusion Matrix:\")\n",
    "print(conf_matrix)"
   ]
  },
  {
   "cell_type": "code",
   "execution_count": 16,
   "id": "4f5508df",
   "metadata": {},
   "outputs": [
    {
     "name": "stdout",
     "output_type": "stream",
     "text": [
      "Classification Report:\n",
      "              precision    recall  f1-score   support\n",
      "\n",
      "           0       0.75      0.87      0.80      1398\n",
      "           1       0.73      0.54      0.62       895\n",
      "\n",
      "    accuracy                           0.74      2293\n",
      "   macro avg       0.74      0.70      0.71      2293\n",
      "weighted avg       0.74      0.74      0.73      2293\n",
      "\n"
     ]
    }
   ],
   "source": [
    "# Classification report\n",
    "class_report = classification_report(y_test, y_pred_classes)\n",
    "print(\"Classification Report:\")\n",
    "print(class_report)"
   ]
  },
  {
   "cell_type": "code",
   "execution_count": 36,
   "id": "f898c9e8",
   "metadata": {},
   "outputs": [
    {
     "name": "stdout",
     "output_type": "stream",
     "text": [
      "ROC AUC Score: 0.7949249126845215\n"
     ]
    }
   ],
   "source": [
    "# ROC AUC score\n",
    "roc_auc = roc_auc_score(y_test, y_pred)\n",
    "print(\"ROC AUC Score:\", roc_auc)"
   ]
  },
  {
   "cell_type": "code",
   "execution_count": 18,
   "id": "2ce602f8",
   "metadata": {},
   "outputs": [
    {
     "data": {
      "image/png": "[encoded data removed]",
      "text/plain": [
       "<Figure size 432x288 with 1 Axes>"
      ]
     },
     "metadata": {
      "needs_background": "light"
     },
     "output_type": "display_data"
    }
   ],
   "source": [
    "import matplotlib.pyplot as plt\n",
    "\n",
    "# ROC curve\n",
    "fpr, tpr, thresholds = roc_curve(y_test, y_pred)\n",
    "roc_auc = roc_auc_score(y_test, y_pred)\n",
    "plt.figure()\n",
    "plt.plot(fpr, tpr, label='ROC curve (area = %0.2f)' % roc_auc)\n",
    "plt.plot([0, 1], [0, 1], 'k--')\n",
    "plt.xlim([0.0, 1.0])\n",
    "plt.ylim([0.0, 1.05])\n",
    "plt.xlabel('False Positive Rate')\n",
    "plt.ylabel('True Positive Rate')\n",
    "plt.title('Receiver Operating Characteristic (ROC)')\n",
    "plt.legend(loc=\"lower right\")\n",
    "plt.show()\n"
   ]
  },
  {
   "cell_type": "code",
   "execution_count": 19,
   "id": "c7571650",
   "metadata": {},
   "outputs": [
    {
     "data": {
      "text/plain": [
       "<matplotlib.legend.Legend at 0x19e29d3b4f0>"
      ]
     },
     "execution_count": 19,
     "metadata": {},
     "output_type": "execute_result"
    },
    {
     "data": {
      "image/png": "[encoded data removed]",
      "text/plain": [
       "<Figure size 864x432 with 1 Axes>"
      ]
     },
     "metadata": {
      "needs_background": "light"
     },
     "output_type": "display_data"
    }
   ],
   "source": [
    "# Loss and accuracy plots\n",
    "plt.figure(figsize=(12, 6))\n",
    "plt.subplot(1, 2, 1)\n",
    "plt.plot(history.history['loss'], label='train')\n",
    "plt.plot(history.history['val_loss'], label='val')\n",
    "plt.title('Model Loss')\n",
    "plt.xlabel('Epochs')\n",
    "plt.ylabel('Loss')\n",
    "plt.legend()"
   ]
  },
  {
   "cell_type": "code",
   "execution_count": 20,
   "id": "62deec45",
   "metadata": {},
   "outputs": [
    {
     "data": {
      "image/png": "[encoded data removed]",
      "text/plain": [
       "<Figure size 432x288 with 1 Axes>"
      ]
     },
     "metadata": {
      "needs_background": "light"
     },
     "output_type": "display_data"
    }
   ],
   "source": [
    "plt.subplot(1, 2, 2)\n",
    "plt.plot(history.history['accuracy'], label='train')\n",
    "plt.plot(history.history['val_accuracy'], label='val')\n",
    "plt.title('Model Accuracy')\n",
    "plt.xlabel('Epochs')\n",
    "plt.ylabel('Accuracy')\n",
    "plt.legend()\n",
    "\n",
    "plt.tight_layout()\n",
    "plt.show()"
   ]
  },
  {
   "cell_type": "code",
   "execution_count": null,
   "id": "67e3e578",
   "metadata": {},
   "outputs": [],
   "source": []
  },
  {
   "cell_type": "code",
   "execution_count": null,
   "id": "aeb03077",
   "metadata": {},
   "outputs": [],
   "source": []
  }
 ],
 "metadata": {
  "kernelspec": {
   "display_name": "Python 3 (ipykernel)",
   "language": "python",
   "name": "python3"
  },
  "language_info": {
   "codemirror_mode": {
    "name": "ipython",
    "version": 3
   },
   "file_extension": ".py",
   "mimetype": "text/x-python",
   "name": "python",
   "nbconvert_exporter": "python",
   "pygments_lexer": "ipython3",
   "version": "3.9.12"
  }
 },
 "nbformat": 4,
 "nbformat_minor": 5
}
